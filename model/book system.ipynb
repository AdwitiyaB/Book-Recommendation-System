{
 "cells": [
  {
   "cell_type": "markdown",
   "id": "f23c46c9",
   "metadata": {},
   "source": [
    "# Book Recommendation System"
   ]
  },
  {
   "cell_type": "markdown",
   "id": "0e831d6a",
   "metadata": {},
   "source": [
    "### Importing nessaccary Libraries"
   ]
  },
  {
   "cell_type": "code",
   "id": "d5e521ab",
   "metadata": {},
   "source": [
    "import numpy as np\n",
    "import pandas as pd"
   ],
   "outputs": [],
   "execution_count": null
  },
  {
   "cell_type": "markdown",
   "id": "65a5467b",
   "metadata": {},
   "source": [
    "### EDA"
   ]
  },
  {
   "cell_type": "code",
   "id": "dc572b23",
   "metadata": {},
   "source": [
    "books = pd.read_csv('books.csv')\n",
    "users = pd.read_csv('users.csv')\n",
    "ratings = pd.read_csv('ratings.csv')"
   ],
   "outputs": [],
   "execution_count": null
  },
  {
   "cell_type": "code",
   "id": "f6487645",
   "metadata": {},
   "source": [
    "books['Image-URL-M'][1]"
   ],
   "outputs": [],
   "execution_count": null
  },
  {
   "cell_type": "code",
   "id": "20cb9d1e",
   "metadata": {},
   "source": [
    "users.head()"
   ],
   "outputs": [],
   "execution_count": null
  },
  {
   "cell_type": "code",
   "id": "abd58d47",
   "metadata": {},
   "source": [
    "ratings.head()"
   ],
   "outputs": [],
   "execution_count": null
  },
  {
   "cell_type": "code",
   "id": "bfe44d53",
   "metadata": {},
   "source": [
    "print(books.shape)\n",
    "print(ratings.shape)\n",
    "print(users.shape)"
   ],
   "outputs": [],
   "execution_count": null
  },
  {
   "cell_type": "code",
   "id": "a56a0402",
   "metadata": {},
   "source": [
    "books.isnull().sum()"
   ],
   "outputs": [],
   "execution_count": null
  },
  {
   "cell_type": "code",
   "id": "d6dd6a77",
   "metadata": {},
   "source": [
    "users.isnull().sum()"
   ],
   "outputs": [],
   "execution_count": null
  },
  {
   "cell_type": "code",
   "id": "e1c480dd",
   "metadata": {},
   "source": [
    "ratings.isnull().sum()"
   ],
   "outputs": [],
   "execution_count": null
  },
  {
   "cell_type": "code",
   "id": "23498cf1",
   "metadata": {},
   "source": [
    "books.duplicated().sum()"
   ],
   "outputs": [],
   "execution_count": null
  },
  {
   "cell_type": "code",
   "id": "ed744ebe",
   "metadata": {},
   "source": [
    "ratings.duplicated().sum()"
   ],
   "outputs": [],
   "execution_count": null
  },
  {
   "cell_type": "code",
   "id": "85f5d2fa",
   "metadata": {},
   "source": [
    "users.duplicated().sum()"
   ],
   "outputs": [],
   "execution_count": null
  },
  {
   "cell_type": "markdown",
   "id": "c0236084",
   "metadata": {},
   "source": [
    "### "
   ]
  },
  {
   "cell_type": "code",
   "id": "c3cf0475",
   "metadata": {},
   "source": [
    "ratings_with_name = ratings.merge(books,on='ISBN')"
   ],
   "outputs": [],
   "execution_count": null
  },
  {
   "cell_type": "code",
   "id": "ef6b014f",
   "metadata": {},
   "source": [
    "num_rating_df = ratings_with_name.groupby('Book-Title').count()['Book-Rating'].reset_index()\n",
    "num_rating_df.rename(columns={'Book-Rating':'num_ratings'},inplace=True)\n",
    "num_rating_df"
   ],
   "outputs": [],
   "execution_count": null
  },
  {
   "cell_type": "code",
   "id": "86b79ea6",
   "metadata": {},
   "source": [
    "avg_rating_df = ratings_with_name.groupby('Book-Title').mean()['Book-Rating'].reset_index()\n",
    "avg_rating_df.rename(columns={'Book-Rating':'avg_rating'},inplace=True)\n",
    "avg_rating_df"
   ],
   "outputs": [],
   "execution_count": null
  },
  {
   "cell_type": "code",
   "id": "a1806e99",
   "metadata": {},
   "source": [
    "popular_df = num_rating_df.merge(avg_rating_df,on='Book-Title')\n",
    "popular_df"
   ],
   "outputs": [],
   "execution_count": null
  },
  {
   "cell_type": "code",
   "id": "20bb493d",
   "metadata": {},
   "source": [
    "popular_df = popular_df[popular_df['num_ratings']>=250].sort_values('avg_rating',ascending=False).head(50)"
   ],
   "outputs": [],
   "execution_count": null
  },
  {
   "cell_type": "code",
   "id": "720b7d1b",
   "metadata": {},
   "source": [
    "popular_df = popular_df.merge(books,on='Book-Title').drop_duplicates('Book-Title')[['Book-Title','Book-Author','Image-URL-M','num_ratings','avg_rating']]"
   ],
   "outputs": [],
   "execution_count": null
  },
  {
   "cell_type": "code",
   "id": "8e843454",
   "metadata": {},
   "source": [
    "popular_df['Image-URL-M'][0]"
   ],
   "outputs": [],
   "execution_count": null
  },
  {
   "cell_type": "code",
   "id": "9dfbd504",
   "metadata": {},
   "source": [
    "x = ratings_with_name.groupby('User-ID').count()['Book-Rating'] > 200\n",
    "padhe_likhe_users = x[x].index"
   ],
   "outputs": [],
   "execution_count": null
  },
  {
   "cell_type": "code",
   "id": "0b639f7c",
   "metadata": {},
   "source": [
    "filtered_rating = ratings_with_name[ratings_with_name['User-ID'].isin(padhe_likhe_users)]"
   ],
   "outputs": [],
   "execution_count": null
  },
  {
   "cell_type": "code",
   "id": "7728c188",
   "metadata": {},
   "source": [
    "y = filtered_rating.groupby('Book-Title').count()['Book-Rating']>=50\n",
    "famous_books = y[y].index"
   ],
   "outputs": [],
   "execution_count": null
  },
  {
   "cell_type": "code",
   "id": "2a01b8ff",
   "metadata": {},
   "source": [
    "final_ratings = filtered_rating[filtered_rating['Book-Title'].isin(famous_books)]"
   ],
   "outputs": [],
   "execution_count": null
  },
  {
   "cell_type": "code",
   "id": "c36bb64e",
   "metadata": {},
   "source": [
    "pt = final_ratings.pivot_table(index='Book-Title',columns='User-ID',values='Book-Rating')"
   ],
   "outputs": [],
   "execution_count": null
  },
  {
   "cell_type": "code",
   "id": "b6660656",
   "metadata": {},
   "source": [
    "pt.fillna(0,inplace=True)"
   ],
   "outputs": [],
   "execution_count": null
  },
  {
   "cell_type": "code",
   "id": "9681cdc9",
   "metadata": {},
   "source": [
    "pt"
   ],
   "outputs": [],
   "execution_count": null
  },
  {
   "cell_type": "markdown",
   "id": "9e08888a",
   "metadata": {},
   "source": [
    "### Model Building"
   ]
  },
  {
   "cell_type": "code",
   "id": "676ad9c2",
   "metadata": {},
   "source": [
    "from sklearn.metrics.pairwise import cosine_similarity"
   ],
   "outputs": [],
   "execution_count": null
  },
  {
   "cell_type": "code",
   "id": "5cfa523b",
   "metadata": {},
   "source": [
    "similarity_scores = cosine_similarity(pt)"
   ],
   "outputs": [],
   "execution_count": null
  },
  {
   "cell_type": "code",
   "id": "596cd9e5",
   "metadata": {},
   "source": [
    "similarity_scores.shape"
   ],
   "outputs": [],
   "execution_count": null
  },
  {
   "cell_type": "code",
   "id": "5e395924",
   "metadata": {},
   "source": [
    "def recommend():\n",
    "    # index fetch\n",
    "    book_name = input() \n",
    "    #     book_name = request.form.get('user_input')\n",
    "    if book_name not in pt.index:\n",
    "        return \"Invalid response. Book not found.\"\n",
    "    index = np.where(pt.index==book_name)[0][0]\n",
    "    similar_items = sorted(list(enumerate(similarity_scores[index])),key=lambda x:x[1],reverse=True)[1:5]\n",
    "    \n",
    "    data = []\n",
    "    for i in similar_items:\n",
    "        item = []\n",
    "        temp_df = books[books['Book-Title'] == pt.index[i[0]]]\n",
    "        item.extend(list(temp_df.drop_duplicates('Book-Title')['Book-Title'].values))\n",
    "        item.extend(list(temp_df.drop_duplicates('Book-Title')['Book-Author'].values))\n",
    "        item.extend(list(temp_df.drop_duplicates('Book-Title')['Image-URL-M'].values))\n",
    "        \n",
    "        data.append(item)\n",
    "    \n",
    "    return data"
   ],
   "outputs": [],
   "execution_count": null
  },
  {
   "cell_type": "code",
   "id": "5ddc954e",
   "metadata": {},
   "source": [
    "recommend()"
   ],
   "outputs": [],
   "execution_count": null
  },
  {
   "cell_type": "code",
   "id": "1ad639d3",
   "metadata": {},
   "source": [
    "# recommend()"
   ],
   "outputs": [],
   "execution_count": null
  },
  {
   "cell_type": "code",
   "id": "6eaddb3a",
   "metadata": {},
   "source": [
    "pt.index[545]"
   ],
   "outputs": [],
   "execution_count": null
  },
  {
   "cell_type": "code",
   "id": "6d61460a",
   "metadata": {},
   "source": [
    "#import pickle\n",
    "#pickle.dump(popular_df,open('popular.pkl','wb'))"
   ],
   "outputs": [],
   "execution_count": null
  },
  {
   "cell_type": "code",
   "id": "57e63827",
   "metadata": {},
   "source": [
    "popular_df.to_pickle('popular.pkl')"
   ],
   "outputs": [],
   "execution_count": null
  },
  {
   "cell_type": "code",
   "id": "f6ff9e1c",
   "metadata": {},
   "source": [
    "popular_df"
   ],
   "outputs": [],
   "execution_count": null
  },
  {
   "cell_type": "code",
   "id": "5408bb13",
   "metadata": {
    "scrolled": true
   },
   "source": [
    "books.drop_duplicates('Book-Title')"
   ],
   "outputs": [],
   "execution_count": null
  },
  {
   "cell_type": "code",
   "id": "cf347d7e",
   "metadata": {},
   "source": [
    "#ickle.dump(pt,open('pt.pkl','wb'))\n",
    "#pickle.dump(books,open('books.pkl','wb'))\n",
    "#pickle.dump(similarity_scores,open('similarity_scores.pkl','wb'))"
   ],
   "outputs": [],
   "execution_count": null
  },
  {
   "cell_type": "code",
   "id": "eea12bcf",
   "metadata": {},
   "source": [
    "#pandas.to_pickle('pt.pkl')\n",
    "#pandas.to_pickle('books.pkl')\n",
    "#pandas.to_pickle('similarity_scores.pkl')"
   ],
   "outputs": [],
   "execution_count": null
  },
  {
   "cell_type": "code",
   "id": "8919871c",
   "metadata": {},
   "source": [
    "pt.to_pickle('pt.pkl')"
   ],
   "outputs": [],
   "execution_count": null
  },
  {
   "cell_type": "code",
   "id": "3a90a434",
   "metadata": {},
   "source": [
    "books.to_pickle('books.pkl')"
   ],
   "outputs": [],
   "execution_count": null
  },
  {
   "cell_type": "code",
   "id": "676ff088",
   "metadata": {},
   "source": [
    "# Convert the similarity scores numpy array to a DataFrame\n",
    "similarity_scores_df = pd.DataFrame(similarity_scores)\n",
    "\n",
    "# Save the DataFrame to a pickle file\n",
    "similarity_scores_df.to_pickle('similarity_scores.pkl')"
   ],
   "outputs": [],
   "execution_count": null
  },
  {
   "cell_type": "code",
   "id": "7dc85e3e",
   "metadata": {},
   "source": [
    "books"
   ],
   "outputs": [],
   "execution_count": null
  },
  {
   "cell_type": "code",
   "id": "c2606010",
   "metadata": {},
   "source": [
    "import pandas as pd\n",
    "\n",
    "# Load the pickled DataFrame from the file\n",
    "books_df = pd.read_pickle('books.pkl')\n",
    "\n",
    "# Display the first few rows of the DataFrame to inspect its structure and contents\n",
    "books_df.head()"
   ],
   "outputs": [],
   "execution_count": null
  },
  {
   "cell_type": "code",
   "id": "d97ba6e3",
   "metadata": {},
   "source": [
    "# Optionally, you can also display information about the DataFrame, such as column names and data types\n",
    "popular_df.info()"
   ],
   "outputs": [],
   "execution_count": null
  }
 ],
 "metadata": {
  "kernelspec": {
   "display_name": "Python 3 (ipykernel)",
   "language": "python",
   "name": "python3"
  },
  "language_info": {
   "codemirror_mode": {
    "name": "ipython",
    "version": 3
   },
   "file_extension": ".py",
   "mimetype": "text/x-python",
   "name": "python",
   "nbconvert_exporter": "python",
   "pygments_lexer": "ipython3",
   "version": "3.10.11"
  }
 },
 "nbformat": 4,
 "nbformat_minor": 5
}
